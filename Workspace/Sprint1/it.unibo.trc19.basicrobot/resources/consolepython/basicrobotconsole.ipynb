{
 "cells": [
  {
   "cell_type": "markdown",
   "metadata": {},
   "source": [
    "# Command console for the basicrobot"
   ]
  },
  {
   "cell_type": "code",
   "execution_count": null,
   "metadata": {},
   "outputs": [
    {
     "name": "stdout",
     "output_type": "stream",
     "text": [
      "connected to broker  localhost\n",
      "subscribing to unibo/polar\n",
      "starting the client loop to receive sonar data\n",
      "console  STARTS :\n",
      "p\n",
      "received message = msg(polar,event,envsonarhandler,none,polar(26,180),15)\n",
      "s\n",
      "forwardMsg  forwardMsg= : msg(cmd,dispatch,py,basicrobot,cmd(s),1)\n",
      "received message = msg(polar,event,envsonarhandler,none,polar(26,180),22)\n",
      "received message = msg(polar,event,envsonarhandler,none,polar(26,180),26)\n",
      "received message = msg(polar,event,envsonarhandler,none,polar(26,180),28)\n",
      "s\n",
      "forwardMsg  forwardMsg= : msg(cmd,dispatch,py,basicrobot,cmd(s),1)\n",
      "received message = msg(polar,event,envsonarhandler,none,polar(19,180),30)\n",
      "p\n",
      "received message = msg(polar,event,envsonarhandler,none,polar(19,180),36)\n",
      "received message = msg(polar,event,envsonarhandler,none,polar(19,180),43)\n",
      "received message = msg(polar,event,envsonarhandler,none,polar(19,180),45)\n",
      "received message = msg(polar,event,envsonarhandler,none,polar(19,180),47)\n",
      "received message = msg(polar,event,envsonarhandler,none,polar(19,180),49)\n",
      "p\n"
     ]
    }
   ],
   "source": [
    "##############################################################\n",
    "# basicrobotconsole.py\n",
    "##############################################################\n",
    "import paho.mqtt.client as paho\n",
    "\n",
    "### brokerAddr =\"broker.hivemq.com\"\n",
    "brokerAddr =\"localhost\"\n",
    "\n",
    "#define callback\n",
    "def on_message(client, userdata, message):\n",
    "    print(\"received message =\",str(message.payload.decode(\"utf-8\")))\n",
    "\n",
    "def requestStep(  ):\n",
    "    msg = \"msg(step,request,py,basicrobot,step(350),1)\"\n",
    "    ##print(\"requestMsg  requestMsg= :\" , msg  )\n",
    "    client.publish(\"unibo/qak/basicrobot\",msg) \n",
    "\n",
    "def forwardMsg( move ):\n",
    "    msg = \"msg(cmd,dispatch,py,basicrobot,cmd(\"+str(move)+\"),1)\"\n",
    "    print(\"forwardMsg  forwardMsg= :\" , msg  )\n",
    "    client.publish(\"unibo/qak/basicrobot\",msg) \n",
    "\n",
    "def console() :  \n",
    "    print(\"console  STARTS :\"   )\n",
    "    cmd =  str( input() )\n",
    "    while( cmd != \"q\"  ) :\n",
    "        #print( cmd )\n",
    "        if( cmd == \"p\" ) :\n",
    "            requestStep()\n",
    "        else :\n",
    "            forwardMsg( cmd )\n",
    "        cmd = str(input() )\n",
    "##################################################################\n",
    "\n",
    "client= paho.Client(\"basicrobotconsole\")  \n",
    "client.on_message=on_message            # Bind function to callback    \n",
    "\n",
    "client.connect(brokerAddr)              #connect\n",
    "print(\"connected to broker \", brokerAddr)\n",
    "\n",
    "print(\"subscribing to unibo/polar\")\n",
    "client.subscribe(\"unibo/polar\")      #subscribe\n",
    "\n",
    "print(\"starting the client loop to receive sonar data\" )\n",
    "client.loop_start()                  #start loop to process received messages\n",
    " \n",
    "console() "
   ]
  },
  {
   "cell_type": "code",
   "execution_count": null,
   "metadata": {},
   "outputs": [],
   "source": []
  }
 ],
 "metadata": {
  "kernelspec": {
   "display_name": "Python 3",
   "language": "python",
   "name": "python3"
  },
  "language_info": {
   "codemirror_mode": {
    "name": "ipython",
    "version": 3
   },
   "file_extension": ".py",
   "mimetype": "text/x-python",
   "name": "python",
   "nbconvert_exporter": "python",
   "pygments_lexer": "ipython3",
   "version": "3.7.3"
  }
 },
 "nbformat": 4,
 "nbformat_minor": 2
}
