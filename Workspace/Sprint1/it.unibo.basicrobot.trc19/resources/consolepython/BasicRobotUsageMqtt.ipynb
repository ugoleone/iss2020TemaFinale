{
 "cells": [
  {
   "cell_type": "markdown",
   "metadata": {},
   "source": [
    "# BasicRobotUsageMqtt\n",
    "See the project it.unibo.basicrobotusage<br/>\n",
    "This is an example of an external component (an 'alien') that sends move commands \n",
    "to the basicrobot via MQTT"
   ]
  },
  {
   "cell_type": "markdown",
   "metadata": {},
   "source": [
    "## Using the basicrobot via MQTT"
   ]
  },
  {
   "cell_type": "code",
   "execution_count": null,
   "metadata": {},
   "outputs": [
    {
     "name": "stdout",
     "output_type": "stream",
     "text": [
      "connected to broker  localhost\n",
      "console  STARTS :\n",
      "l\n",
      "console  cmd= l\n",
      "l\n"
     ]
    }
   ],
   "source": [
    "import time\n",
    "import paho.mqtt.client as paho\n",
    " \n",
    "brokerAddr     = \"localhost\"\n",
    "\n",
    "robotName      = \"basicrobot\"\n",
    "topic          = \"unibo/qak/events\"\n",
    "msgTemplate    = \"msg(cmd,dispatch, python,\"+ robotName +\",cmd(CMDVAL),1)\"\n",
    "eventTemplate  = \"msg(userCmd,event,python,none,userCmd(CMDVAL),1)\"\n",
    "\n",
    "def emit( cmd ) :\n",
    "    message = eventTemplate.replace(\"CMDVAL\", cmd)\n",
    "    #print(\"emit event via MQTT\", message)\n",
    "    msg = message + \"\\n\"\n",
    "    #byt = msg.encode()     \n",
    "    #tb  = topic.encode()\n",
    "    client.publish(topic, msg)\n",
    "\n",
    "def forward( cmd ) :\n",
    "    message = msgTemplate.replace(\"CMDVAL\", cmd)\n",
    "    #print(\"forward via MQTT\", message)\n",
    "    msg = message + \"\\n\"\n",
    "    client.publish(topic, msg)\n",
    "\n",
    "\n",
    "def console() :  \n",
    "    print(\"console  STARTS :\"   )\n",
    "    cmd =  str( input() )\n",
    "    print(\"console  cmd=\" , cmd  )\n",
    "    while( len(cmd)==1 and cmd != \"q\"  ) :\n",
    "        #emit( cmd )\n",
    "        forward( cmd )\n",
    "        cmd =  str(input())\n",
    "#################################################   \n",
    "client= paho.Client(\"sender\")      \n",
    "client.connect(brokerAddr)              #connect\n",
    "print(\"connected to broker \", brokerAddr)\n",
    "\n",
    "console()\n",
    "  "
   ]
  },
  {
   "cell_type": "code",
   "execution_count": null,
   "metadata": {},
   "outputs": [],
   "source": []
  },
  {
   "cell_type": "code",
   "execution_count": null,
   "metadata": {},
   "outputs": [],
   "source": []
  }
 ],
 "metadata": {
  "kernelspec": {
   "display_name": "Python 3",
   "language": "python",
   "name": "python3"
  },
  "language_info": {
   "codemirror_mode": {
    "name": "ipython",
    "version": 3
   },
   "file_extension": ".py",
   "mimetype": "text/x-python",
   "name": "python",
   "nbconvert_exporter": "python",
   "pygments_lexer": "ipython3",
   "version": "3.7.3"
  }
 },
 "nbformat": 4,
 "nbformat_minor": 2
}
